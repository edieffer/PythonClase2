{
  "nbformat": 4,
  "nbformat_minor": 0,
  "metadata": {
    "colab": {
      "provenance": [],
      "include_colab_link": true
    },
    "kernelspec": {
      "name": "python3",
      "display_name": "Python 3"
    },
    "language_info": {
      "name": "python"
    }
  },
  "cells": [
    {
      "cell_type": "markdown",
      "metadata": {
        "id": "view-in-github",
        "colab_type": "text"
      },
      "source": [
        "<a href=\"https://colab.research.google.com/github/edieffer/PythonClase2/blob/main/modulo6/Estad%C3%ADstica_para_el_an%C3%A1lisis_de_datos.ipynb\" target=\"_parent\"><img src=\"https://colab.research.google.com/assets/colab-badge.svg\" alt=\"Open In Colab\"/></a>"
      ]
    },
    {
      "cell_type": "markdown",
      "source": [
        "<img src=\"https://www.ctic.uni.edu.pe/wp-content/uploads/2022/04/588px-x-348px-web-1.png\" alt=\"HTML5 Icon\" width=\"900\" height=\"350\" >"
      ],
      "metadata": {
        "id": "X5uZnS2MO0LM"
      }
    },
    {
      "cell_type": "markdown",
      "source": [
        "\n",
        "\n",
        "<h1 align=center><font size = 5>Taller de Estadística para el análisis de datos</font></h1>\n",
        "\n",
        "---"
      ],
      "metadata": {
        "id": "D_f3UpLu_-HV"
      }
    },
    {
      "cell_type": "markdown",
      "source": [
        "## Introducción\n"
      ],
      "metadata": {
        "id": "sUqlVtQkAKiT"
      }
    },
    {
      "cell_type": "markdown",
      "source": [
        "En este laboratorio, aprenderá a usar python para realizar limpieza de datos y feature engineering"
      ],
      "metadata": {
        "id": "Z4u9n4R6ANRq"
      }
    },
    {
      "cell_type": "markdown",
      "source": [
        "## 1. Descargar y analizar Dataset"
      ],
      "metadata": {
        "id": "D5EzcK3oASXc"
      }
    },
    {
      "cell_type": "markdown",
      "source": [
        "### Esta es la legendaria competencia Titanic ML\n"
      ],
      "metadata": {
        "id": "ynJwResaAWss"
      }
    },
    {
      "cell_type": "markdown",
      "source": [
        "\n",
        "\n",
        "El hundimiento del Titanic es uno de los naufragios más infames de la historia.\n",
        "\n",
        "El 15 de abril de 1912, durante su viaje inaugural, el RMS Titanic, ampliamente considerado \"insumergible\", se hundió tras chocar con un iceberg. Desafortunadamente, no había suficientes botes salvavidas para todos a bordo, lo que resultó en la muerte de 1502 de los 2224 pasajeros y la tripulación.\n",
        "\n",
        "Si bien hubo algún elemento de suerte involucrado en sobrevivir, parece que algunos grupos de personas tenían más probabilidades de sobrevivir que otros.\n",
        "\n",
        "En este desafío, le pedimos que cree un modelo predictivo que responda a la pregunta: \"¿Qué tipo de personas tenían más probabilidades de sobrevivir?\" utilizando datos de pasajeros (es decir, nombre, edad, sexo, clase socioeconómica, etc.)."
      ],
      "metadata": {
        "id": "Z5MrBjbOAYx7"
      }
    },
    {
      "cell_type": "markdown",
      "source": [
        "<img src=\"https://storage.googleapis.com/kaggle-media/welcome/video_thumbnail.jpg\" width=\"800\" \n",
        "     height=\"400\">\n",
        "<div style=\"text-align: center\">¿Qué tipo de personas tenían más probabilidades de sobrevivir? </div>"
      ],
      "metadata": {
        "id": "acQYFWr8AbUd"
      }
    },
    {
      "cell_type": "markdown",
      "source": [
        "\n",
        "<b>Descripción de datos</b>\n",
        "\n",
        "El data frame de Titanic tiene 891 filas y 12 columnas.\n",
        "\n",
        "<b>Este data frame contiene las siguientes columnas:</b>\n",
        "\n",
        "---\n",
        "\n",
        "* <b>Survival : </b>  Supervivencia (0 = No, 1 = Sí)\n",
        "* <b>Pclass : </b>  Ticket class (1 = 1st, 2 = 2nd, 3 = 3rd)\n",
        "* <b>Sex : </b>  Sexo \n",
        "* <b>Age : </b>  Edad en años\n",
        "* <b>Sibsp : </b>  # de hermanos / cónyuges a bordo del Titanic\n",
        "* <b>Parch : </b>  # de padres / hijos a bordo del Titanic\n",
        "\n",
        "* <b>Ticket : </b>  Número de ticket\n",
        "\n",
        "* <b>Fare : </b>  Tarifa de pasajero\n",
        "* <b>Cabin : </b>  Número de cabina\n",
        "* <b>Embarked : </b>  Puerto de embarque (C = Cherburgo, Q = Queenstown, S = Southampton)\n",
        "\n",
        "\n",
        "\n",
        "---\n",
        "\n",
        "\n",
        "<strong>Puede consultar este [link](https://www.kaggle.com/c/titanic/overview) para leer más sobre la fuente de datos Titanic.</strong>\n"
      ],
      "metadata": {
        "id": "BbrCaloCBpb3"
      }
    },
    {
      "cell_type": "code",
      "source": [
        "# Importando librerías\n",
        "\n",
        "import pandas as pd\n",
        "import numpy as np\n",
        "import seaborn as sns\n"
      ],
      "metadata": {
        "id": "FBwGSZJ1CHVb"
      },
      "execution_count": null,
      "outputs": []
    },
    {
      "cell_type": "code",
      "execution_count": null,
      "metadata": {
        "id": "HdRwCUPG_Iil"
      },
      "outputs": [],
      "source": [
        "# leer la data desde una archivo csv\n",
        "titanic = pd.read_csv('train_titanic.csv', delimiter = \",\")\n"
      ]
    },
    {
      "cell_type": "code",
      "source": [
        "# Visualizar parte de la tabla \n",
        "titanic.head(10)"
      ],
      "metadata": {
        "id": "txIt6b20B1xZ"
      },
      "execution_count": null,
      "outputs": []
    },
    {
      "cell_type": "code",
      "source": [
        "titanic.dtypes"
      ],
      "metadata": {
        "id": "U7QrayPSDMnn"
      },
      "execution_count": null,
      "outputs": []
    },
    {
      "cell_type": "code",
      "source": [
        "titanic.Age"
      ],
      "metadata": {
        "id": "HqXu-jY5CeZb"
      },
      "execution_count": null,
      "outputs": []
    },
    {
      "cell_type": "markdown",
      "source": [
        "### Promedio"
      ],
      "metadata": {
        "id": "Y1ciq5uVDX8Z"
      }
    },
    {
      "cell_type": "code",
      "source": [
        "titanic.Age.sum()/titanic.Age.count()\n"
      ],
      "metadata": {
        "id": "hfSy_7G1CjMO"
      },
      "execution_count": null,
      "outputs": []
    },
    {
      "cell_type": "code",
      "source": [
        "titanic.Age.mean()\n"
      ],
      "metadata": {
        "id": "7g7jANnZCnBs"
      },
      "execution_count": null,
      "outputs": []
    },
    {
      "cell_type": "code",
      "source": [
        "valores = np.array([12, 15.5, 18, 190])\n",
        "valores.mean()\n"
      ],
      "metadata": {
        "id": "xcPnXD4Cayr8"
      },
      "execution_count": null,
      "outputs": []
    },
    {
      "cell_type": "markdown",
      "source": [
        "### Promedio ponderado"
      ],
      "metadata": {
        "id": "fzWQUaxVZTCK"
      }
    },
    {
      "cell_type": "code",
      "source": [
        "valores = np.array([12, 15.5, 18])\n",
        "ponderacion = np.array([2, 1, 3])\n",
        "\n",
        "valores_ponderados = valores*ponderacion\n",
        "valores_ponderados.sum()/ponderacion.sum()\n",
        "\n"
      ],
      "metadata": {
        "id": "-TOWafR7ZQQC"
      },
      "execution_count": null,
      "outputs": []
    },
    {
      "cell_type": "code",
      "source": [
        "valores.mean()"
      ],
      "metadata": {
        "id": "g6I-GgNJaarw"
      },
      "execution_count": null,
      "outputs": []
    },
    {
      "cell_type": "markdown",
      "source": [
        "### Mediana"
      ],
      "metadata": {
        "id": "8CcOQmM6DbYL"
      }
    },
    {
      "cell_type": "code",
      "source": [
        "titanic.Age.median()"
      ],
      "metadata": {
        "id": "43vc-JQODdE2"
      },
      "execution_count": null,
      "outputs": []
    },
    {
      "cell_type": "code",
      "source": [
        "valores = np.array([12, 15.5, 18, 190])\n",
        "np.median(valores, axis=0)"
      ],
      "metadata": {
        "id": "tOunaRW4cMeF"
      },
      "execution_count": null,
      "outputs": []
    },
    {
      "cell_type": "markdown",
      "source": [
        "### Desviación estándar"
      ],
      "metadata": {
        "id": "tyWGh9Y4DdmQ"
      }
    },
    {
      "cell_type": "code",
      "source": [
        "titanic.Age.std()"
      ],
      "metadata": {
        "id": "eqPfPEaRCqrT"
      },
      "execution_count": null,
      "outputs": []
    },
    {
      "cell_type": "markdown",
      "source": [
        "### Percentiles"
      ],
      "metadata": {
        "id": "95GwhoN8MJfk"
      }
    },
    {
      "cell_type": "code",
      "source": [
        "arry = np.array(titanic.Age.dropna())\n"
      ],
      "metadata": {
        "id": "FcAtEouoOnBp"
      },
      "execution_count": null,
      "outputs": []
    },
    {
      "cell_type": "code",
      "source": [
        "percentile = np.percentile(arry, 50)\n",
        "percentile"
      ],
      "metadata": {
        "id": "pd2TsdwpMx3r"
      },
      "execution_count": null,
      "outputs": []
    },
    {
      "cell_type": "code",
      "source": [
        "np.percentile(arry, 25)"
      ],
      "metadata": {
        "id": "9aj8g4yXPAuA"
      },
      "execution_count": null,
      "outputs": []
    },
    {
      "cell_type": "code",
      "source": [
        "np.percentile(arry, 75)"
      ],
      "metadata": {
        "id": "zyI39Tc0PFE4"
      },
      "execution_count": null,
      "outputs": []
    },
    {
      "cell_type": "markdown",
      "source": [
        "### varianza"
      ],
      "metadata": {
        "id": "Oa7D0YASmxkE"
      }
    },
    {
      "cell_type": "code",
      "source": [
        "valores = np.array(titanic.Age.dropna())\n",
        "np.var(valores, axis=0)"
      ],
      "metadata": {
        "id": "0nX1YItFmt_O"
      },
      "execution_count": null,
      "outputs": []
    },
    {
      "cell_type": "code",
      "source": [
        "np.std(valores, axis=0)"
      ],
      "metadata": {
        "id": "OxrmhRNcnY_6"
      },
      "execution_count": null,
      "outputs": []
    },
    {
      "cell_type": "markdown",
      "source": [
        "### Rango Intercuartilico"
      ],
      "metadata": {
        "id": "TxHJMn7un4BU"
      }
    },
    {
      "cell_type": "code",
      "source": [
        "RIC = np.percentile(arry, 75) - np.percentile(arry, 25)\n",
        "RIC"
      ],
      "metadata": {
        "id": "wP5BblqFn25J"
      },
      "execution_count": null,
      "outputs": []
    },
    {
      "cell_type": "markdown",
      "source": [
        "### Coeficiente de variación"
      ],
      "metadata": {
        "id": "7ggbY2b7oR9V"
      }
    },
    {
      "cell_type": "code",
      "source": [
        "cv_age = np.std(valores, axis=0)/np.mean(valores, axis=0)\n",
        "cv_age"
      ],
      "metadata": {
        "id": "chJsvvl1oV8u"
      },
      "execution_count": null,
      "outputs": []
    },
    {
      "cell_type": "code",
      "source": [
        "cv_fare = np.std(np.array(titanic.Fare.dropna()), axis=0)/np.mean(np.array(titanic.Fare.dropna()), axis=0)\n",
        "cv_fare"
      ],
      "metadata": {
        "id": "2gkVBM0loRl-"
      },
      "execution_count": null,
      "outputs": []
    },
    {
      "cell_type": "markdown",
      "source": [
        "### Diagramas de caja"
      ],
      "metadata": {
        "id": "rT6QylFwP2-Q"
      }
    },
    {
      "cell_type": "code",
      "source": [
        "sns.set_palette('pastel')\n",
        "sns.boxplot(x = titanic[\"Fare\"])"
      ],
      "metadata": {
        "id": "dhynMiwiP7z-"
      },
      "execution_count": null,
      "outputs": []
    },
    {
      "cell_type": "code",
      "source": [
        "sns.set_palette('pastel')\n",
        "sns.boxplot(x = titanic[\"Age\"])"
      ],
      "metadata": {
        "id": "34Eo_q7UP2IH"
      },
      "execution_count": null,
      "outputs": []
    },
    {
      "cell_type": "markdown",
      "source": [
        "### Identificación de Outliers por Rango Intercuantilico"
      ],
      "metadata": {
        "id": "sYphv26YPvOo"
      }
    },
    {
      "cell_type": "markdown",
      "source": [
        "<img src=\"https://miro.medium.com/max/1400/1*2c21SkzJMf3frPXPAR_gZA.png\" width=\"500\" \n",
        "     height=\"300\" > "
      ],
      "metadata": {
        "id": "VHnC-E5NPzW2"
      }
    },
    {
      "cell_type": "code",
      "source": [
        "# Estadisticos básicos de la tabla\n",
        "titanic.describe().transpose()"
      ],
      "metadata": {
        "id": "y2j5oRAtB5tw"
      },
      "execution_count": null,
      "outputs": []
    },
    {
      "cell_type": "markdown",
      "source": [
        "### Diagrama de distribución"
      ],
      "metadata": {
        "id": "I8z0-17iQjlJ"
      }
    },
    {
      "cell_type": "code",
      "source": [
        "# Histograma en seaborn\n",
        "sns.set_style('darkgrid')\n",
        "sns.set_palette('winter')\n",
        "\n",
        "sns.displot(titanic, x = 'Age', bins=10, kde=True)"
      ],
      "metadata": {
        "id": "CkeC7ZrwQmzJ"
      },
      "execution_count": null,
      "outputs": []
    },
    {
      "cell_type": "code",
      "source": [
        "# Histograma en seaborn\n",
        "sns.set_style('darkgrid')\n",
        "sns.set_palette('winter')\n",
        "\n",
        "sns.displot(titanic, x = 'Fare', bins=10, kde=True)"
      ],
      "metadata": {
        "id": "GF5EyC1grpQh"
      },
      "execution_count": null,
      "outputs": []
    },
    {
      "cell_type": "code",
      "source": [
        "arry = np.array(titanic.Fare.dropna())\n",
        "Q3 = np.percentile(arry, 75)\n",
        "Q1 = np.percentile(arry, 25)\n",
        "\n",
        "Q3 + 1.5*(Q3 - Q1)"
      ],
      "metadata": {
        "id": "VnibJR-Tr0Cr"
      },
      "execution_count": null,
      "outputs": []
    },
    {
      "cell_type": "code",
      "source": [
        "# Histograma en seaborn\n",
        "sns.set_style('darkgrid')\n",
        "sns.set_palette('winter')\n",
        "\n",
        "sns.displot(titanic.loc[titanic.Fare < 65.6244], x = 'Fare', bins=10, kde=True)"
      ],
      "metadata": {
        "id": "cquC2TAfsa3d"
      },
      "execution_count": null,
      "outputs": []
    },
    {
      "cell_type": "code",
      "source": [
        "sns.set_style('darkgrid')\n",
        "sns.set_palette('winter')\n",
        "\n",
        "sns.boxplot(titanic.loc[titanic.Fare < 65.6244].Fare)"
      ],
      "metadata": {
        "id": "aX4RZemvsnJa"
      },
      "execution_count": null,
      "outputs": []
    }
  ]
}